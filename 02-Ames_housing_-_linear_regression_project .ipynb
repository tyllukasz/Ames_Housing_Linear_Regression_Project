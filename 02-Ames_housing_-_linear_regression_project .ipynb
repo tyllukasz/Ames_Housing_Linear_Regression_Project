{
 "cells": [
  {
   "cell_type": "markdown",
   "id": "0519348f",
   "metadata": {},
   "source": [
    "# Ames housing - linear regression project"
   ]
  },
  {
   "cell_type": "markdown",
   "id": "d5a3ab47",
   "metadata": {},
   "source": [
    "## Libraries import"
   ]
  },
  {
   "cell_type": "code",
   "execution_count": 1,
   "id": "887745ae",
   "metadata": {},
   "outputs": [],
   "source": [
    "import numpy as np\n",
    "import pandas as pd\n",
    "import matplotlib.pyplot as plt\n",
    "import seaborn as sns"
   ]
  },
  {
   "cell_type": "markdown",
   "id": "c097db76",
   "metadata": {},
   "source": [
    "## Data import"
   ]
  },
  {
   "cell_type": "code",
   "execution_count": 2,
   "id": "4edcbc66",
   "metadata": {},
   "outputs": [],
   "source": [
    "df = pd.read_csv('DATA/ames_final_processed.csv')"
   ]
  },
  {
   "cell_type": "code",
   "execution_count": 3,
   "id": "ccc79624",
   "metadata": {},
   "outputs": [
    {
     "data": {
      "text/html": [
       "<div>\n",
       "<style scoped>\n",
       "    .dataframe tbody tr th:only-of-type {\n",
       "        vertical-align: middle;\n",
       "    }\n",
       "\n",
       "    .dataframe tbody tr th {\n",
       "        vertical-align: top;\n",
       "    }\n",
       "\n",
       "    .dataframe thead th {\n",
       "        text-align: right;\n",
       "    }\n",
       "</style>\n",
       "<table border=\"1\" class=\"dataframe\">\n",
       "  <thead>\n",
       "    <tr style=\"text-align: right;\">\n",
       "      <th></th>\n",
       "      <th>Lot.Frontage</th>\n",
       "      <th>Lot.Area</th>\n",
       "      <th>Overall.Qual</th>\n",
       "      <th>Overall.Cond</th>\n",
       "      <th>Year.Built</th>\n",
       "      <th>Year.Remod.Add</th>\n",
       "      <th>Mas.Vnr.Area</th>\n",
       "      <th>BsmtFin.SF.1</th>\n",
       "      <th>BsmtFin.SF.2</th>\n",
       "      <th>Bsmt.Unf.SF</th>\n",
       "      <th>...</th>\n",
       "      <th>Sale.Type_ConLw</th>\n",
       "      <th>Sale.Type_New</th>\n",
       "      <th>Sale.Type_Oth</th>\n",
       "      <th>Sale.Type_VWD</th>\n",
       "      <th>Sale.Type_WD</th>\n",
       "      <th>Sale.Condition_AdjLand</th>\n",
       "      <th>Sale.Condition_Alloca</th>\n",
       "      <th>Sale.Condition_Family</th>\n",
       "      <th>Sale.Condition_Normal</th>\n",
       "      <th>Sale.Condition_Partial</th>\n",
       "    </tr>\n",
       "  </thead>\n",
       "  <tbody>\n",
       "    <tr>\n",
       "      <th>0</th>\n",
       "      <td>141.0</td>\n",
       "      <td>31770</td>\n",
       "      <td>6</td>\n",
       "      <td>5</td>\n",
       "      <td>1960</td>\n",
       "      <td>1960</td>\n",
       "      <td>112.0</td>\n",
       "      <td>639.0</td>\n",
       "      <td>0.0</td>\n",
       "      <td>441.0</td>\n",
       "      <td>...</td>\n",
       "      <td>0</td>\n",
       "      <td>0</td>\n",
       "      <td>0</td>\n",
       "      <td>0</td>\n",
       "      <td>1</td>\n",
       "      <td>0</td>\n",
       "      <td>0</td>\n",
       "      <td>0</td>\n",
       "      <td>1</td>\n",
       "      <td>0</td>\n",
       "    </tr>\n",
       "    <tr>\n",
       "      <th>1</th>\n",
       "      <td>80.0</td>\n",
       "      <td>11622</td>\n",
       "      <td>5</td>\n",
       "      <td>6</td>\n",
       "      <td>1961</td>\n",
       "      <td>1961</td>\n",
       "      <td>0.0</td>\n",
       "      <td>468.0</td>\n",
       "      <td>144.0</td>\n",
       "      <td>270.0</td>\n",
       "      <td>...</td>\n",
       "      <td>0</td>\n",
       "      <td>0</td>\n",
       "      <td>0</td>\n",
       "      <td>0</td>\n",
       "      <td>1</td>\n",
       "      <td>0</td>\n",
       "      <td>0</td>\n",
       "      <td>0</td>\n",
       "      <td>1</td>\n",
       "      <td>0</td>\n",
       "    </tr>\n",
       "    <tr>\n",
       "      <th>2</th>\n",
       "      <td>81.0</td>\n",
       "      <td>14267</td>\n",
       "      <td>6</td>\n",
       "      <td>6</td>\n",
       "      <td>1958</td>\n",
       "      <td>1958</td>\n",
       "      <td>108.0</td>\n",
       "      <td>923.0</td>\n",
       "      <td>0.0</td>\n",
       "      <td>406.0</td>\n",
       "      <td>...</td>\n",
       "      <td>0</td>\n",
       "      <td>0</td>\n",
       "      <td>0</td>\n",
       "      <td>0</td>\n",
       "      <td>1</td>\n",
       "      <td>0</td>\n",
       "      <td>0</td>\n",
       "      <td>0</td>\n",
       "      <td>1</td>\n",
       "      <td>0</td>\n",
       "    </tr>\n",
       "    <tr>\n",
       "      <th>3</th>\n",
       "      <td>93.0</td>\n",
       "      <td>11160</td>\n",
       "      <td>7</td>\n",
       "      <td>5</td>\n",
       "      <td>1968</td>\n",
       "      <td>1968</td>\n",
       "      <td>0.0</td>\n",
       "      <td>1065.0</td>\n",
       "      <td>0.0</td>\n",
       "      <td>1045.0</td>\n",
       "      <td>...</td>\n",
       "      <td>0</td>\n",
       "      <td>0</td>\n",
       "      <td>0</td>\n",
       "      <td>0</td>\n",
       "      <td>1</td>\n",
       "      <td>0</td>\n",
       "      <td>0</td>\n",
       "      <td>0</td>\n",
       "      <td>1</td>\n",
       "      <td>0</td>\n",
       "    </tr>\n",
       "    <tr>\n",
       "      <th>4</th>\n",
       "      <td>74.0</td>\n",
       "      <td>13830</td>\n",
       "      <td>5</td>\n",
       "      <td>5</td>\n",
       "      <td>1997</td>\n",
       "      <td>1998</td>\n",
       "      <td>0.0</td>\n",
       "      <td>791.0</td>\n",
       "      <td>0.0</td>\n",
       "      <td>137.0</td>\n",
       "      <td>...</td>\n",
       "      <td>0</td>\n",
       "      <td>0</td>\n",
       "      <td>0</td>\n",
       "      <td>0</td>\n",
       "      <td>1</td>\n",
       "      <td>0</td>\n",
       "      <td>0</td>\n",
       "      <td>0</td>\n",
       "      <td>1</td>\n",
       "      <td>0</td>\n",
       "    </tr>\n",
       "  </tbody>\n",
       "</table>\n",
       "<p>5 rows × 274 columns</p>\n",
       "</div>"
      ],
      "text/plain": [
       "   Lot.Frontage  Lot.Area  Overall.Qual  Overall.Cond  Year.Built  \\\n",
       "0         141.0     31770             6             5        1960   \n",
       "1          80.0     11622             5             6        1961   \n",
       "2          81.0     14267             6             6        1958   \n",
       "3          93.0     11160             7             5        1968   \n",
       "4          74.0     13830             5             5        1997   \n",
       "\n",
       "   Year.Remod.Add  Mas.Vnr.Area  BsmtFin.SF.1  BsmtFin.SF.2  Bsmt.Unf.SF  ...  \\\n",
       "0            1960         112.0         639.0           0.0        441.0  ...   \n",
       "1            1961           0.0         468.0         144.0        270.0  ...   \n",
       "2            1958         108.0         923.0           0.0        406.0  ...   \n",
       "3            1968           0.0        1065.0           0.0       1045.0  ...   \n",
       "4            1998           0.0         791.0           0.0        137.0  ...   \n",
       "\n",
       "   Sale.Type_ConLw  Sale.Type_New  Sale.Type_Oth  Sale.Type_VWD  \\\n",
       "0                0              0              0              0   \n",
       "1                0              0              0              0   \n",
       "2                0              0              0              0   \n",
       "3                0              0              0              0   \n",
       "4                0              0              0              0   \n",
       "\n",
       "   Sale.Type_WD   Sale.Condition_AdjLand  Sale.Condition_Alloca  \\\n",
       "0              1                       0                      0   \n",
       "1              1                       0                      0   \n",
       "2              1                       0                      0   \n",
       "3              1                       0                      0   \n",
       "4              1                       0                      0   \n",
       "\n",
       "   Sale.Condition_Family  Sale.Condition_Normal  Sale.Condition_Partial  \n",
       "0                      0                      1                       0  \n",
       "1                      0                      1                       0  \n",
       "2                      0                      1                       0  \n",
       "3                      0                      1                       0  \n",
       "4                      0                      1                       0  \n",
       "\n",
       "[5 rows x 274 columns]"
      ]
     },
     "execution_count": 3,
     "metadata": {},
     "output_type": "execute_result"
    }
   ],
   "source": [
    "df.head()"
   ]
  },
  {
   "cell_type": "code",
   "execution_count": 4,
   "id": "3114b5de",
   "metadata": {},
   "outputs": [
    {
     "name": "stdout",
     "output_type": "stream",
     "text": [
      "<class 'pandas.core.frame.DataFrame'>\n",
      "RangeIndex: 2922 entries, 0 to 2921\n",
      "Columns: 274 entries, Lot.Frontage to Sale.Condition_Partial\n",
      "dtypes: float64(11), int64(263)\n",
      "memory usage: 6.1 MB\n"
     ]
    }
   ],
   "source": [
    "df.info()"
   ]
  },
  {
   "cell_type": "code",
   "execution_count": 5,
   "id": "207bf29c",
   "metadata": {},
   "outputs": [
    {
     "data": {
      "text/plain": [
       "Index(['Lot.Frontage', 'Lot.Area', 'Overall.Qual', 'Overall.Cond',\n",
       "       'Year.Built', 'Year.Remod.Add', 'Mas.Vnr.Area', 'BsmtFin.SF.1',\n",
       "       'BsmtFin.SF.2', 'Bsmt.Unf.SF', 'Total.Bsmt.SF', 'X1st.Flr.SF',\n",
       "       'X2nd.Flr.SF', 'Low.Qual.Fin.SF', 'Gr.Liv.Area', 'Bsmt.Full.Bath',\n",
       "       'Bsmt.Half.Bath', 'Full.Bath', 'Half.Bath', 'Bedroom.AbvGr',\n",
       "       'Kitchen.AbvGr', 'TotRms.AbvGrd', 'Fireplaces', 'Garage.Yr.Blt',\n",
       "       'Garage.Cars', 'Garage.Area', 'Wood.Deck.SF', 'Open.Porch.SF',\n",
       "       'Enclosed.Porch', 'X3Ssn.Porch', 'Screen.Porch', 'Pool.Area',\n",
       "       'Misc.Val', 'Mo.Sold', 'Yr.Sold', 'SalePrice', 'MS.SubClass_150',\n",
       "       'MS.SubClass_160', 'MS.SubClass_180', 'MS.SubClass_190'],\n",
       "      dtype='object')"
      ]
     },
     "execution_count": 5,
     "metadata": {},
     "output_type": "execute_result"
    }
   ],
   "source": [
    "df.columns[0:40]"
   ]
  },
  {
   "cell_type": "markdown",
   "id": "ea30f334",
   "metadata": {},
   "source": [
    "## Data prepartion"
   ]
  },
  {
   "cell_type": "markdown",
   "id": "65aafe1c",
   "metadata": {},
   "source": [
    "### X -> features, y -> labels (SalePrice)"
   ]
  },
  {
   "cell_type": "code",
   "execution_count": 6,
   "id": "d7c3ee87",
   "metadata": {},
   "outputs": [],
   "source": [
    "X = df.drop('SalePrice', axis=1)\n",
    "y = df['SalePrice']"
   ]
  },
  {
   "cell_type": "markdown",
   "id": "16b35edd",
   "metadata": {},
   "source": [
    "### Features split (10% for test)"
   ]
  },
  {
   "cell_type": "code",
   "execution_count": 7,
   "id": "3ad8160e",
   "metadata": {},
   "outputs": [],
   "source": [
    "from sklearn.model_selection import train_test_split"
   ]
  },
  {
   "cell_type": "code",
   "execution_count": 8,
   "id": "ef3e5ffd",
   "metadata": {},
   "outputs": [],
   "source": [
    "X_train, X_test, y_train, y_test = train_test_split(X, y, test_size=0.1, random_state=101)"
   ]
  },
  {
   "cell_type": "markdown",
   "id": "9bb56ba2",
   "metadata": {},
   "source": [
    "### Data scaling"
   ]
  },
  {
   "cell_type": "code",
   "execution_count": 9,
   "id": "9dc8bae6",
   "metadata": {},
   "outputs": [],
   "source": [
    "from sklearn.preprocessing import StandardScaler"
   ]
  },
  {
   "cell_type": "code",
   "execution_count": 10,
   "id": "189f0ff4",
   "metadata": {},
   "outputs": [],
   "source": [
    "scaler = StandardScaler() #scaler defnition"
   ]
  },
  {
   "cell_type": "code",
   "execution_count": 11,
   "id": "7fd1c24b",
   "metadata": {},
   "outputs": [
    {
     "data": {
      "text/plain": [
       "StandardScaler()"
      ]
     },
     "execution_count": 11,
     "metadata": {},
     "output_type": "execute_result"
    }
   ],
   "source": [
    "scaler.fit(X_train)"
   ]
  },
  {
   "cell_type": "code",
   "execution_count": 12,
   "id": "bd0b18a3",
   "metadata": {},
   "outputs": [],
   "source": [
    "X_train = scaler.transform(X_train)\n",
    "X_test = scaler.transform(X_test)"
   ]
  },
  {
   "cell_type": "markdown",
   "id": "6ae21eca",
   "metadata": {},
   "source": [
    "## L1 and L2 regularization - Elastic Net model (using Grid Search)"
   ]
  },
  {
   "cell_type": "code",
   "execution_count": 13,
   "id": "bb02f8f3",
   "metadata": {},
   "outputs": [],
   "source": [
    "from sklearn.linear_model import ElasticNet"
   ]
  },
  {
   "cell_type": "code",
   "execution_count": 14,
   "id": "140d8bb3",
   "metadata": {},
   "outputs": [],
   "source": [
    "base_elastic_model = ElasticNet() #model definition"
   ]
  },
  {
   "cell_type": "code",
   "execution_count": 15,
   "id": "0bd18c77",
   "metadata": {},
   "outputs": [],
   "source": [
    "#grid of values for ElasticNet (alpha and L1 ratio)\n",
    "g_o_v = {'alpha':[0.01, 0.1, 1, 50, 100], 'l1_ratio':[0.01, 0.1, 0.5, 0.9, 1]}"
   ]
  },
  {
   "cell_type": "code",
   "execution_count": 16,
   "id": "881f833c",
   "metadata": {},
   "outputs": [],
   "source": [
    "from sklearn.model_selection import GridSearchCV"
   ]
  },
  {
   "cell_type": "code",
   "execution_count": 17,
   "id": "e885f72f",
   "metadata": {},
   "outputs": [],
   "source": [
    "#grid model definition\n",
    "grid_model = GridSearchCV(estimator = base_elastic_model,\n",
    "                          param_grid = g_o_v,\n",
    "                          scoring='neg_mean_squared_error',\n",
    "                          cv = 5, verbose = 2)"
   ]
  },
  {
   "cell_type": "code",
   "execution_count": 18,
   "id": "5ae6dec8",
   "metadata": {},
   "outputs": [
    {
     "name": "stdout",
     "output_type": "stream",
     "text": [
      "Fitting 5 folds for each of 25 candidates, totalling 125 fits\n",
      "[CV] alpha=0.01, l1_ratio=0.01 .......................................\n"
     ]
    },
    {
     "name": "stderr",
     "output_type": "stream",
     "text": [
      "[Parallel(n_jobs=1)]: Using backend SequentialBackend with 1 concurrent workers.\n",
      "/home/luka/anaconda3/envs/Udemy/lib/python3.7/site-packages/sklearn/linear_model/_coordinate_descent.py:531: ConvergenceWarning: Objective did not converge. You might want to increase the number of iterations. Duality gap: 401242545797.58386, tolerance: 1320978106.269347\n",
      "  positive)\n",
      "[Parallel(n_jobs=1)]: Done   1 out of   1 | elapsed:    0.3s remaining:    0.0s\n"
     ]
    },
    {
     "name": "stdout",
     "output_type": "stream",
     "text": [
      "[CV] ........................ alpha=0.01, l1_ratio=0.01, total=   0.3s\n",
      "[CV] alpha=0.01, l1_ratio=0.01 .......................................\n"
     ]
    },
    {
     "name": "stderr",
     "output_type": "stream",
     "text": [
      "/home/luka/anaconda3/envs/Udemy/lib/python3.7/site-packages/sklearn/linear_model/_coordinate_descent.py:531: ConvergenceWarning: Objective did not converge. You might want to increase the number of iterations. Duality gap: 392159301370.9279, tolerance: 1363335812.4837673\n",
      "  positive)\n"
     ]
    },
    {
     "name": "stdout",
     "output_type": "stream",
     "text": [
      "[CV] ........................ alpha=0.01, l1_ratio=0.01, total=   0.3s\n",
      "[CV] alpha=0.01, l1_ratio=0.01 .......................................\n"
     ]
    },
    {
     "name": "stderr",
     "output_type": "stream",
     "text": [
      "/home/luka/anaconda3/envs/Udemy/lib/python3.7/site-packages/sklearn/linear_model/_coordinate_descent.py:531: ConvergenceWarning: Objective did not converge. You might want to increase the number of iterations. Duality gap: 406723794678.70416, tolerance: 1387154758.387506\n",
      "  positive)\n"
     ]
    },
    {
     "name": "stdout",
     "output_type": "stream",
     "text": [
      "[CV] ........................ alpha=0.01, l1_ratio=0.01, total=   0.3s\n",
      "[CV] alpha=0.01, l1_ratio=0.01 .......................................\n"
     ]
    },
    {
     "name": "stderr",
     "output_type": "stream",
     "text": [
      "/home/luka/anaconda3/envs/Udemy/lib/python3.7/site-packages/sklearn/linear_model/_coordinate_descent.py:531: ConvergenceWarning: Objective did not converge. You might want to increase the number of iterations. Duality gap: 410514428666.3788, tolerance: 1368172225.8752089\n",
      "  positive)\n"
     ]
    },
    {
     "name": "stdout",
     "output_type": "stream",
     "text": [
      "[CV] ........................ alpha=0.01, l1_ratio=0.01, total=   0.3s\n",
      "[CV] alpha=0.01, l1_ratio=0.01 .......................................\n"
     ]
    },
    {
     "name": "stderr",
     "output_type": "stream",
     "text": [
      "/home/luka/anaconda3/envs/Udemy/lib/python3.7/site-packages/sklearn/linear_model/_coordinate_descent.py:531: ConvergenceWarning: Objective did not converge. You might want to increase the number of iterations. Duality gap: 403902753552.743, tolerance: 1368228893.555126\n",
      "  positive)\n"
     ]
    },
    {
     "name": "stdout",
     "output_type": "stream",
     "text": [
      "[CV] ........................ alpha=0.01, l1_ratio=0.01, total=   0.3s\n",
      "[CV] alpha=0.01, l1_ratio=0.1 ........................................\n"
     ]
    },
    {
     "name": "stderr",
     "output_type": "stream",
     "text": [
      "/home/luka/anaconda3/envs/Udemy/lib/python3.7/site-packages/sklearn/linear_model/_coordinate_descent.py:531: ConvergenceWarning: Objective did not converge. You might want to increase the number of iterations. Duality gap: 395575519694.27325, tolerance: 1320978106.269347\n",
      "  positive)\n"
     ]
    },
    {
     "name": "stdout",
     "output_type": "stream",
     "text": [
      "[CV] ......................... alpha=0.01, l1_ratio=0.1, total=   0.3s\n",
      "[CV] alpha=0.01, l1_ratio=0.1 ........................................\n"
     ]
    },
    {
     "name": "stderr",
     "output_type": "stream",
     "text": [
      "/home/luka/anaconda3/envs/Udemy/lib/python3.7/site-packages/sklearn/linear_model/_coordinate_descent.py:531: ConvergenceWarning: Objective did not converge. You might want to increase the number of iterations. Duality gap: 389124287303.88965, tolerance: 1363335812.4837673\n",
      "  positive)\n"
     ]
    },
    {
     "name": "stdout",
     "output_type": "stream",
     "text": [
      "[CV] ......................... alpha=0.01, l1_ratio=0.1, total=   0.3s\n",
      "[CV] alpha=0.01, l1_ratio=0.1 ........................................\n"
     ]
    },
    {
     "name": "stderr",
     "output_type": "stream",
     "text": [
      "/home/luka/anaconda3/envs/Udemy/lib/python3.7/site-packages/sklearn/linear_model/_coordinate_descent.py:531: ConvergenceWarning: Objective did not converge. You might want to increase the number of iterations. Duality gap: 400151228931.9262, tolerance: 1387154758.387506\n",
      "  positive)\n"
     ]
    },
    {
     "name": "stdout",
     "output_type": "stream",
     "text": [
      "[CV] ......................... alpha=0.01, l1_ratio=0.1, total=   0.3s\n",
      "[CV] alpha=0.01, l1_ratio=0.1 ........................................\n"
     ]
    },
    {
     "name": "stderr",
     "output_type": "stream",
     "text": [
      "/home/luka/anaconda3/envs/Udemy/lib/python3.7/site-packages/sklearn/linear_model/_coordinate_descent.py:531: ConvergenceWarning: Objective did not converge. You might want to increase the number of iterations. Duality gap: 403826968048.95966, tolerance: 1368172225.8752089\n",
      "  positive)\n"
     ]
    },
    {
     "name": "stdout",
     "output_type": "stream",
     "text": [
      "[CV] ......................... alpha=0.01, l1_ratio=0.1, total=   0.3s\n",
      "[CV] alpha=0.01, l1_ratio=0.1 ........................................\n"
     ]
    },
    {
     "name": "stderr",
     "output_type": "stream",
     "text": [
      "/home/luka/anaconda3/envs/Udemy/lib/python3.7/site-packages/sklearn/linear_model/_coordinate_descent.py:531: ConvergenceWarning: Objective did not converge. You might want to increase the number of iterations. Duality gap: 396021428915.89856, tolerance: 1368228893.555126\n",
      "  positive)\n"
     ]
    },
    {
     "name": "stdout",
     "output_type": "stream",
     "text": [
      "[CV] ......................... alpha=0.01, l1_ratio=0.1, total=   0.3s\n",
      "[CV] alpha=0.01, l1_ratio=0.5 ........................................\n"
     ]
    },
    {
     "name": "stderr",
     "output_type": "stream",
     "text": [
      "/home/luka/anaconda3/envs/Udemy/lib/python3.7/site-packages/sklearn/linear_model/_coordinate_descent.py:531: ConvergenceWarning: Objective did not converge. You might want to increase the number of iterations. Duality gap: 387957574862.83276, tolerance: 1320978106.269347\n",
      "  positive)\n"
     ]
    },
    {
     "name": "stdout",
     "output_type": "stream",
     "text": [
      "[CV] ......................... alpha=0.01, l1_ratio=0.5, total=   0.3s\n",
      "[CV] alpha=0.01, l1_ratio=0.5 ........................................\n"
     ]
    },
    {
     "name": "stderr",
     "output_type": "stream",
     "text": [
      "/home/luka/anaconda3/envs/Udemy/lib/python3.7/site-packages/sklearn/linear_model/_coordinate_descent.py:531: ConvergenceWarning: Objective did not converge. You might want to increase the number of iterations. Duality gap: 379189947594.8858, tolerance: 1363335812.4837673\n",
      "  positive)\n"
     ]
    },
    {
     "name": "stdout",
     "output_type": "stream",
     "text": [
      "[CV] ......................... alpha=0.01, l1_ratio=0.5, total=   0.3s\n",
      "[CV] alpha=0.01, l1_ratio=0.5 ........................................\n"
     ]
    },
    {
     "name": "stderr",
     "output_type": "stream",
     "text": [
      "/home/luka/anaconda3/envs/Udemy/lib/python3.7/site-packages/sklearn/linear_model/_coordinate_descent.py:531: ConvergenceWarning: Objective did not converge. You might want to increase the number of iterations. Duality gap: 391536373764.89923, tolerance: 1387154758.387506\n",
      "  positive)\n"
     ]
    },
    {
     "name": "stdout",
     "output_type": "stream",
     "text": [
      "[CV] ......................... alpha=0.01, l1_ratio=0.5, total=   0.3s\n",
      "[CV] alpha=0.01, l1_ratio=0.5 ........................................\n"
     ]
    },
    {
     "name": "stderr",
     "output_type": "stream",
     "text": [
      "/home/luka/anaconda3/envs/Udemy/lib/python3.7/site-packages/sklearn/linear_model/_coordinate_descent.py:531: ConvergenceWarning: Objective did not converge. You might want to increase the number of iterations. Duality gap: 397294285991.587, tolerance: 1368172225.8752089\n",
      "  positive)\n"
     ]
    },
    {
     "name": "stdout",
     "output_type": "stream",
     "text": [
      "[CV] ......................... alpha=0.01, l1_ratio=0.5, total=   0.3s\n",
      "[CV] alpha=0.01, l1_ratio=0.5 ........................................\n"
     ]
    },
    {
     "name": "stderr",
     "output_type": "stream",
     "text": [
      "/home/luka/anaconda3/envs/Udemy/lib/python3.7/site-packages/sklearn/linear_model/_coordinate_descent.py:531: ConvergenceWarning: Objective did not converge. You might want to increase the number of iterations. Duality gap: 385899602047.87683, tolerance: 1368228893.555126\n",
      "  positive)\n"
     ]
    },
    {
     "name": "stdout",
     "output_type": "stream",
     "text": [
      "[CV] ......................... alpha=0.01, l1_ratio=0.5, total=   0.3s\n",
      "[CV] alpha=0.01, l1_ratio=0.9 ........................................\n"
     ]
    },
    {
     "name": "stderr",
     "output_type": "stream",
     "text": [
      "/home/luka/anaconda3/envs/Udemy/lib/python3.7/site-packages/sklearn/linear_model/_coordinate_descent.py:531: ConvergenceWarning: Objective did not converge. You might want to increase the number of iterations. Duality gap: 379776943188.42914, tolerance: 1320978106.269347\n",
      "  positive)\n"
     ]
    },
    {
     "name": "stdout",
     "output_type": "stream",
     "text": [
      "[CV] ......................... alpha=0.01, l1_ratio=0.9, total=   0.3s\n",
      "[CV] alpha=0.01, l1_ratio=0.9 ........................................\n"
     ]
    },
    {
     "name": "stderr",
     "output_type": "stream",
     "text": [
      "/home/luka/anaconda3/envs/Udemy/lib/python3.7/site-packages/sklearn/linear_model/_coordinate_descent.py:531: ConvergenceWarning: Objective did not converge. You might want to increase the number of iterations. Duality gap: 366752839324.36237, tolerance: 1363335812.4837673\n",
      "  positive)\n"
     ]
    },
    {
     "name": "stdout",
     "output_type": "stream",
     "text": [
      "[CV] ......................... alpha=0.01, l1_ratio=0.9, total=   0.3s\n",
      "[CV] alpha=0.01, l1_ratio=0.9 ........................................\n"
     ]
    },
    {
     "name": "stderr",
     "output_type": "stream",
     "text": [
      "/home/luka/anaconda3/envs/Udemy/lib/python3.7/site-packages/sklearn/linear_model/_coordinate_descent.py:531: ConvergenceWarning: Objective did not converge. You might want to increase the number of iterations. Duality gap: 382870693111.89215, tolerance: 1387154758.387506\n",
      "  positive)\n"
     ]
    },
    {
     "name": "stdout",
     "output_type": "stream",
     "text": [
      "[CV] ......................... alpha=0.01, l1_ratio=0.9, total=   0.3s\n",
      "[CV] alpha=0.01, l1_ratio=0.9 ........................................\n"
     ]
    },
    {
     "name": "stderr",
     "output_type": "stream",
     "text": [
      "/home/luka/anaconda3/envs/Udemy/lib/python3.7/site-packages/sklearn/linear_model/_coordinate_descent.py:531: ConvergenceWarning: Objective did not converge. You might want to increase the number of iterations. Duality gap: 388651554005.9989, tolerance: 1368172225.8752089\n",
      "  positive)\n"
     ]
    },
    {
     "name": "stdout",
     "output_type": "stream",
     "text": [
      "[CV] ......................... alpha=0.01, l1_ratio=0.9, total=   0.3s\n",
      "[CV] alpha=0.01, l1_ratio=0.9 ........................................\n"
     ]
    },
    {
     "name": "stderr",
     "output_type": "stream",
     "text": [
      "/home/luka/anaconda3/envs/Udemy/lib/python3.7/site-packages/sklearn/linear_model/_coordinate_descent.py:531: ConvergenceWarning: Objective did not converge. You might want to increase the number of iterations. Duality gap: 379098584478.7274, tolerance: 1368228893.555126\n",
      "  positive)\n"
     ]
    },
    {
     "name": "stdout",
     "output_type": "stream",
     "text": [
      "[CV] ......................... alpha=0.01, l1_ratio=0.9, total=   0.3s\n",
      "[CV] alpha=0.01, l1_ratio=1 ..........................................\n"
     ]
    },
    {
     "name": "stderr",
     "output_type": "stream",
     "text": [
      "/home/luka/anaconda3/envs/Udemy/lib/python3.7/site-packages/sklearn/linear_model/_coordinate_descent.py:531: ConvergenceWarning: Objective did not converge. You might want to increase the number of iterations. Duality gap: 375187869710.7392, tolerance: 1320978106.269347\n",
      "  positive)\n"
     ]
    },
    {
     "name": "stdout",
     "output_type": "stream",
     "text": [
      "[CV] ........................... alpha=0.01, l1_ratio=1, total=   0.3s\n",
      "[CV] alpha=0.01, l1_ratio=1 ..........................................\n"
     ]
    },
    {
     "name": "stderr",
     "output_type": "stream",
     "text": [
      "/home/luka/anaconda3/envs/Udemy/lib/python3.7/site-packages/sklearn/linear_model/_coordinate_descent.py:531: ConvergenceWarning: Objective did not converge. You might want to increase the number of iterations. Duality gap: 361515565414.4397, tolerance: 1363335812.4837673\n",
      "  positive)\n"
     ]
    },
    {
     "name": "stdout",
     "output_type": "stream",
     "text": [
      "[CV] ........................... alpha=0.01, l1_ratio=1, total=   0.3s\n",
      "[CV] alpha=0.01, l1_ratio=1 ..........................................\n"
     ]
    },
    {
     "name": "stderr",
     "output_type": "stream",
     "text": [
      "/home/luka/anaconda3/envs/Udemy/lib/python3.7/site-packages/sklearn/linear_model/_coordinate_descent.py:531: ConvergenceWarning: Objective did not converge. You might want to increase the number of iterations. Duality gap: 378895893755.3514, tolerance: 1387154758.387506\n",
      "  positive)\n"
     ]
    },
    {
     "name": "stdout",
     "output_type": "stream",
     "text": [
      "[CV] ........................... alpha=0.01, l1_ratio=1, total=   0.3s\n",
      "[CV] alpha=0.01, l1_ratio=1 ..........................................\n"
     ]
    },
    {
     "name": "stderr",
     "output_type": "stream",
     "text": [
      "/home/luka/anaconda3/envs/Udemy/lib/python3.7/site-packages/sklearn/linear_model/_coordinate_descent.py:531: ConvergenceWarning: Objective did not converge. You might want to increase the number of iterations. Duality gap: 384489790550.0722, tolerance: 1368172225.8752089\n",
      "  positive)\n"
     ]
    },
    {
     "name": "stdout",
     "output_type": "stream",
     "text": [
      "[CV] ........................... alpha=0.01, l1_ratio=1, total=   0.3s\n",
      "[CV] alpha=0.01, l1_ratio=1 ..........................................\n"
     ]
    },
    {
     "name": "stderr",
     "output_type": "stream",
     "text": [
      "/home/luka/anaconda3/envs/Udemy/lib/python3.7/site-packages/sklearn/linear_model/_coordinate_descent.py:531: ConvergenceWarning: Objective did not converge. You might want to increase the number of iterations. Duality gap: 374979730238.0609, tolerance: 1368228893.555126\n",
      "  positive)\n"
     ]
    },
    {
     "name": "stdout",
     "output_type": "stream",
     "text": [
      "[CV] ........................... alpha=0.01, l1_ratio=1, total=   0.3s\n",
      "[CV] alpha=0.1, l1_ratio=0.01 ........................................\n",
      "[CV] ......................... alpha=0.1, l1_ratio=0.01, total=   0.1s\n",
      "[CV] alpha=0.1, l1_ratio=0.01 ........................................\n",
      "[CV] ......................... alpha=0.1, l1_ratio=0.01, total=   0.1s\n",
      "[CV] alpha=0.1, l1_ratio=0.01 ........................................\n",
      "[CV] ......................... alpha=0.1, l1_ratio=0.01, total=   0.1s\n",
      "[CV] alpha=0.1, l1_ratio=0.01 ........................................\n",
      "[CV] ......................... alpha=0.1, l1_ratio=0.01, total=   0.1s\n",
      "[CV] alpha=0.1, l1_ratio=0.01 ........................................\n",
      "[CV] ......................... alpha=0.1, l1_ratio=0.01, total=   0.1s\n",
      "[CV] alpha=0.1, l1_ratio=0.1 .........................................\n",
      "[CV] .......................... alpha=0.1, l1_ratio=0.1, total=   0.1s\n",
      "[CV] alpha=0.1, l1_ratio=0.1 .........................................\n",
      "[CV] .......................... alpha=0.1, l1_ratio=0.1, total=   0.1s\n",
      "[CV] alpha=0.1, l1_ratio=0.1 .........................................\n",
      "[CV] .......................... alpha=0.1, l1_ratio=0.1, total=   0.1s\n",
      "[CV] alpha=0.1, l1_ratio=0.1 .........................................\n",
      "[CV] .......................... alpha=0.1, l1_ratio=0.1, total=   0.1s\n",
      "[CV] alpha=0.1, l1_ratio=0.1 .........................................\n",
      "[CV] .......................... alpha=0.1, l1_ratio=0.1, total=   0.1s\n",
      "[CV] alpha=0.1, l1_ratio=0.5 .........................................\n",
      "[CV] .......................... alpha=0.1, l1_ratio=0.5, total=   0.1s\n",
      "[CV] alpha=0.1, l1_ratio=0.5 .........................................\n",
      "[CV] .......................... alpha=0.1, l1_ratio=0.5, total=   0.1s\n",
      "[CV] alpha=0.1, l1_ratio=0.5 .........................................\n",
      "[CV] .......................... alpha=0.1, l1_ratio=0.5, total=   0.1s\n",
      "[CV] alpha=0.1, l1_ratio=0.5 .........................................\n",
      "[CV] .......................... alpha=0.1, l1_ratio=0.5, total=   0.1s\n",
      "[CV] alpha=0.1, l1_ratio=0.5 .........................................\n",
      "[CV] .......................... alpha=0.1, l1_ratio=0.5, total=   0.1s\n",
      "[CV] alpha=0.1, l1_ratio=0.9 .........................................\n"
     ]
    },
    {
     "name": "stderr",
     "output_type": "stream",
     "text": [
      "/home/luka/anaconda3/envs/Udemy/lib/python3.7/site-packages/sklearn/linear_model/_coordinate_descent.py:531: ConvergenceWarning: Objective did not converge. You might want to increase the number of iterations. Duality gap: 156488027487.37708, tolerance: 1320978106.269347\n",
      "  positive)\n"
     ]
    },
    {
     "name": "stdout",
     "output_type": "stream",
     "text": [
      "[CV] .......................... alpha=0.1, l1_ratio=0.9, total=   0.3s\n",
      "[CV] alpha=0.1, l1_ratio=0.9 .........................................\n"
     ]
    },
    {
     "name": "stderr",
     "output_type": "stream",
     "text": [
      "/home/luka/anaconda3/envs/Udemy/lib/python3.7/site-packages/sklearn/linear_model/_coordinate_descent.py:531: ConvergenceWarning: Objective did not converge. You might want to increase the number of iterations. Duality gap: 128579123994.83978, tolerance: 1363335812.4837673\n",
      "  positive)\n"
     ]
    },
    {
     "name": "stdout",
     "output_type": "stream",
     "text": [
      "[CV] .......................... alpha=0.1, l1_ratio=0.9, total=   0.3s\n",
      "[CV] alpha=0.1, l1_ratio=0.9 .........................................\n"
     ]
    },
    {
     "name": "stderr",
     "output_type": "stream",
     "text": [
      "/home/luka/anaconda3/envs/Udemy/lib/python3.7/site-packages/sklearn/linear_model/_coordinate_descent.py:531: ConvergenceWarning: Objective did not converge. You might want to increase the number of iterations. Duality gap: 138219945147.48846, tolerance: 1387154758.387506\n",
      "  positive)\n"
     ]
    },
    {
     "name": "stdout",
     "output_type": "stream",
     "text": [
      "[CV] .......................... alpha=0.1, l1_ratio=0.9, total=   0.3s\n",
      "[CV] alpha=0.1, l1_ratio=0.9 .........................................\n"
     ]
    },
    {
     "name": "stderr",
     "output_type": "stream",
     "text": [
      "/home/luka/anaconda3/envs/Udemy/lib/python3.7/site-packages/sklearn/linear_model/_coordinate_descent.py:531: ConvergenceWarning: Objective did not converge. You might want to increase the number of iterations. Duality gap: 160733192822.26715, tolerance: 1368172225.8752089\n",
      "  positive)\n"
     ]
    },
    {
     "name": "stdout",
     "output_type": "stream",
     "text": [
      "[CV] .......................... alpha=0.1, l1_ratio=0.9, total=   0.3s\n",
      "[CV] alpha=0.1, l1_ratio=0.9 .........................................\n"
     ]
    },
    {
     "name": "stderr",
     "output_type": "stream",
     "text": [
      "/home/luka/anaconda3/envs/Udemy/lib/python3.7/site-packages/sklearn/linear_model/_coordinate_descent.py:531: ConvergenceWarning: Objective did not converge. You might want to increase the number of iterations. Duality gap: 110666077784.20605, tolerance: 1368228893.555126\n",
      "  positive)\n"
     ]
    },
    {
     "name": "stdout",
     "output_type": "stream",
     "text": [
      "[CV] .......................... alpha=0.1, l1_ratio=0.9, total=   0.3s\n",
      "[CV] alpha=0.1, l1_ratio=1 ...........................................\n"
     ]
    },
    {
     "name": "stderr",
     "output_type": "stream",
     "text": [
      "/home/luka/anaconda3/envs/Udemy/lib/python3.7/site-packages/sklearn/linear_model/_coordinate_descent.py:531: ConvergenceWarning: Objective did not converge. You might want to increase the number of iterations. Duality gap: 368926993962.6676, tolerance: 1320978106.269347\n",
      "  positive)\n"
     ]
    },
    {
     "name": "stdout",
     "output_type": "stream",
     "text": [
      "[CV] ............................ alpha=0.1, l1_ratio=1, total=   0.3s\n",
      "[CV] alpha=0.1, l1_ratio=1 ...........................................\n"
     ]
    },
    {
     "name": "stderr",
     "output_type": "stream",
     "text": [
      "/home/luka/anaconda3/envs/Udemy/lib/python3.7/site-packages/sklearn/linear_model/_coordinate_descent.py:531: ConvergenceWarning: Objective did not converge. You might want to increase the number of iterations. Duality gap: 357123986096.7571, tolerance: 1363335812.4837673\n",
      "  positive)\n"
     ]
    },
    {
     "name": "stdout",
     "output_type": "stream",
     "text": [
      "[CV] ............................ alpha=0.1, l1_ratio=1, total=   0.3s\n",
      "[CV] alpha=0.1, l1_ratio=1 ...........................................\n"
     ]
    },
    {
     "name": "stderr",
     "output_type": "stream",
     "text": [
      "/home/luka/anaconda3/envs/Udemy/lib/python3.7/site-packages/sklearn/linear_model/_coordinate_descent.py:531: ConvergenceWarning: Objective did not converge. You might want to increase the number of iterations. Duality gap: 374285388835.07666, tolerance: 1387154758.387506\n",
      "  positive)\n"
     ]
    },
    {
     "name": "stdout",
     "output_type": "stream",
     "text": [
      "[CV] ............................ alpha=0.1, l1_ratio=1, total=   0.3s\n",
      "[CV] alpha=0.1, l1_ratio=1 ...........................................\n"
     ]
    },
    {
     "name": "stderr",
     "output_type": "stream",
     "text": [
      "/home/luka/anaconda3/envs/Udemy/lib/python3.7/site-packages/sklearn/linear_model/_coordinate_descent.py:531: ConvergenceWarning: Objective did not converge. You might want to increase the number of iterations. Duality gap: 379833660971.26117, tolerance: 1368172225.8752089\n",
      "  positive)\n"
     ]
    },
    {
     "name": "stdout",
     "output_type": "stream",
     "text": [
      "[CV] ............................ alpha=0.1, l1_ratio=1, total=   0.3s\n",
      "[CV] alpha=0.1, l1_ratio=1 ...........................................\n"
     ]
    },
    {
     "name": "stderr",
     "output_type": "stream",
     "text": [
      "/home/luka/anaconda3/envs/Udemy/lib/python3.7/site-packages/sklearn/linear_model/_coordinate_descent.py:531: ConvergenceWarning: Objective did not converge. You might want to increase the number of iterations. Duality gap: 350117061244.75055, tolerance: 1368228893.555126\n",
      "  positive)\n"
     ]
    },
    {
     "name": "stdout",
     "output_type": "stream",
     "text": [
      "[CV] ............................ alpha=0.1, l1_ratio=1, total=   0.3s\n",
      "[CV] alpha=1, l1_ratio=0.01 ..........................................\n",
      "[CV] ........................... alpha=1, l1_ratio=0.01, total=   0.0s\n",
      "[CV] alpha=1, l1_ratio=0.01 ..........................................\n",
      "[CV] ........................... alpha=1, l1_ratio=0.01, total=   0.0s\n",
      "[CV] alpha=1, l1_ratio=0.01 ..........................................\n",
      "[CV] ........................... alpha=1, l1_ratio=0.01, total=   0.0s\n",
      "[CV] alpha=1, l1_ratio=0.01 ..........................................\n",
      "[CV] ........................... alpha=1, l1_ratio=0.01, total=   0.0s\n",
      "[CV] alpha=1, l1_ratio=0.01 ..........................................\n",
      "[CV] ........................... alpha=1, l1_ratio=0.01, total=   0.0s\n",
      "[CV] alpha=1, l1_ratio=0.1 ...........................................\n",
      "[CV] ............................ alpha=1, l1_ratio=0.1, total=   0.0s\n",
      "[CV] alpha=1, l1_ratio=0.1 ...........................................\n",
      "[CV] ............................ alpha=1, l1_ratio=0.1, total=   0.0s\n",
      "[CV] alpha=1, l1_ratio=0.1 ...........................................\n",
      "[CV] ............................ alpha=1, l1_ratio=0.1, total=   0.0s\n",
      "[CV] alpha=1, l1_ratio=0.1 ...........................................\n",
      "[CV] ............................ alpha=1, l1_ratio=0.1, total=   0.0s\n",
      "[CV] alpha=1, l1_ratio=0.1 ...........................................\n",
      "[CV] ............................ alpha=1, l1_ratio=0.1, total=   0.0s\n",
      "[CV] alpha=1, l1_ratio=0.5 ...........................................\n",
      "[CV] ............................ alpha=1, l1_ratio=0.5, total=   0.0s\n",
      "[CV] alpha=1, l1_ratio=0.5 ...........................................\n",
      "[CV] ............................ alpha=1, l1_ratio=0.5, total=   0.0s\n",
      "[CV] alpha=1, l1_ratio=0.5 ...........................................\n",
      "[CV] ............................ alpha=1, l1_ratio=0.5, total=   0.0s\n",
      "[CV] alpha=1, l1_ratio=0.5 ...........................................\n",
      "[CV] ............................ alpha=1, l1_ratio=0.5, total=   0.0s\n",
      "[CV] alpha=1, l1_ratio=0.5 ...........................................\n",
      "[CV] ............................ alpha=1, l1_ratio=0.5, total=   0.0s\n",
      "[CV] alpha=1, l1_ratio=0.9 ...........................................\n",
      "[CV] ............................ alpha=1, l1_ratio=0.9, total=   0.1s\n",
      "[CV] alpha=1, l1_ratio=0.9 ...........................................\n",
      "[CV] ............................ alpha=1, l1_ratio=0.9, total=   0.1s\n",
      "[CV] alpha=1, l1_ratio=0.9 ...........................................\n",
      "[CV] ............................ alpha=1, l1_ratio=0.9, total=   0.1s\n",
      "[CV] alpha=1, l1_ratio=0.9 ...........................................\n",
      "[CV] ............................ alpha=1, l1_ratio=0.9, total=   0.1s\n",
      "[CV] alpha=1, l1_ratio=0.9 ...........................................\n",
      "[CV] ............................ alpha=1, l1_ratio=0.9, total=   0.1s\n",
      "[CV] alpha=1, l1_ratio=1 .............................................\n"
     ]
    },
    {
     "name": "stderr",
     "output_type": "stream",
     "text": [
      "/home/luka/anaconda3/envs/Udemy/lib/python3.7/site-packages/sklearn/linear_model/_coordinate_descent.py:531: ConvergenceWarning: Objective did not converge. You might want to increase the number of iterations. Duality gap: 305381877740.5366, tolerance: 1320978106.269347\n",
      "  positive)\n"
     ]
    },
    {
     "name": "stdout",
     "output_type": "stream",
     "text": [
      "[CV] .............................. alpha=1, l1_ratio=1, total=   0.3s\n",
      "[CV] alpha=1, l1_ratio=1 .............................................\n"
     ]
    },
    {
     "name": "stderr",
     "output_type": "stream",
     "text": [
      "/home/luka/anaconda3/envs/Udemy/lib/python3.7/site-packages/sklearn/linear_model/_coordinate_descent.py:531: ConvergenceWarning: Objective did not converge. You might want to increase the number of iterations. Duality gap: 316897887018.9145, tolerance: 1363335812.4837673\n",
      "  positive)\n"
     ]
    },
    {
     "name": "stdout",
     "output_type": "stream",
     "text": [
      "[CV] .............................. alpha=1, l1_ratio=1, total=   0.3s\n",
      "[CV] alpha=1, l1_ratio=1 .............................................\n"
     ]
    },
    {
     "name": "stderr",
     "output_type": "stream",
     "text": [
      "/home/luka/anaconda3/envs/Udemy/lib/python3.7/site-packages/sklearn/linear_model/_coordinate_descent.py:531: ConvergenceWarning: Objective did not converge. You might want to increase the number of iterations. Duality gap: 329388619863.43, tolerance: 1387154758.387506\n",
      "  positive)\n"
     ]
    },
    {
     "name": "stdout",
     "output_type": "stream",
     "text": [
      "[CV] .............................. alpha=1, l1_ratio=1, total=   0.3s\n",
      "[CV] alpha=1, l1_ratio=1 .............................................\n"
     ]
    },
    {
     "name": "stderr",
     "output_type": "stream",
     "text": [
      "/home/luka/anaconda3/envs/Udemy/lib/python3.7/site-packages/sklearn/linear_model/_coordinate_descent.py:531: ConvergenceWarning: Objective did not converge. You might want to increase the number of iterations. Duality gap: 332878484206.11835, tolerance: 1368172225.8752089\n",
      "  positive)\n"
     ]
    },
    {
     "name": "stdout",
     "output_type": "stream",
     "text": [
      "[CV] .............................. alpha=1, l1_ratio=1, total=   0.3s\n",
      "[CV] alpha=1, l1_ratio=1 .............................................\n"
     ]
    },
    {
     "name": "stderr",
     "output_type": "stream",
     "text": [
      "/home/luka/anaconda3/envs/Udemy/lib/python3.7/site-packages/sklearn/linear_model/_coordinate_descent.py:531: ConvergenceWarning: Objective did not converge. You might want to increase the number of iterations. Duality gap: 163570181959.47247, tolerance: 1368228893.555126\n",
      "  positive)\n"
     ]
    },
    {
     "name": "stdout",
     "output_type": "stream",
     "text": [
      "[CV] .............................. alpha=1, l1_ratio=1, total=   0.3s\n",
      "[CV] alpha=50, l1_ratio=0.01 .........................................\n",
      "[CV] .......................... alpha=50, l1_ratio=0.01, total=   0.0s\n",
      "[CV] alpha=50, l1_ratio=0.01 .........................................\n",
      "[CV] .......................... alpha=50, l1_ratio=0.01, total=   0.0s\n",
      "[CV] alpha=50, l1_ratio=0.01 .........................................\n",
      "[CV] .......................... alpha=50, l1_ratio=0.01, total=   0.0s\n",
      "[CV] alpha=50, l1_ratio=0.01 .........................................\n",
      "[CV] .......................... alpha=50, l1_ratio=0.01, total=   0.0s\n",
      "[CV] alpha=50, l1_ratio=0.01 .........................................\n",
      "[CV] .......................... alpha=50, l1_ratio=0.01, total=   0.0s\n",
      "[CV] alpha=50, l1_ratio=0.1 ..........................................\n",
      "[CV] ........................... alpha=50, l1_ratio=0.1, total=   0.0s\n",
      "[CV] alpha=50, l1_ratio=0.1 ..........................................\n",
      "[CV] ........................... alpha=50, l1_ratio=0.1, total=   0.0s\n",
      "[CV] alpha=50, l1_ratio=0.1 ..........................................\n",
      "[CV] ........................... alpha=50, l1_ratio=0.1, total=   0.0s\n",
      "[CV] alpha=50, l1_ratio=0.1 ..........................................\n",
      "[CV] ........................... alpha=50, l1_ratio=0.1, total=   0.0s\n",
      "[CV] alpha=50, l1_ratio=0.1 ..........................................\n",
      "[CV] ........................... alpha=50, l1_ratio=0.1, total=   0.0s\n",
      "[CV] alpha=50, l1_ratio=0.5 ..........................................\n",
      "[CV] ........................... alpha=50, l1_ratio=0.5, total=   0.0s\n",
      "[CV] alpha=50, l1_ratio=0.5 ..........................................\n",
      "[CV] ........................... alpha=50, l1_ratio=0.5, total=   0.0s\n",
      "[CV] alpha=50, l1_ratio=0.5 ..........................................\n",
      "[CV] ........................... alpha=50, l1_ratio=0.5, total=   0.0s\n",
      "[CV] alpha=50, l1_ratio=0.5 ..........................................\n",
      "[CV] ........................... alpha=50, l1_ratio=0.5, total=   0.0s\n",
      "[CV] alpha=50, l1_ratio=0.5 ..........................................\n",
      "[CV] ........................... alpha=50, l1_ratio=0.5, total=   0.0s\n",
      "[CV] alpha=50, l1_ratio=0.9 ..........................................\n",
      "[CV] ........................... alpha=50, l1_ratio=0.9, total=   0.0s\n",
      "[CV] alpha=50, l1_ratio=0.9 ..........................................\n",
      "[CV] ........................... alpha=50, l1_ratio=0.9, total=   0.0s\n",
      "[CV] alpha=50, l1_ratio=0.9 ..........................................\n",
      "[CV] ........................... alpha=50, l1_ratio=0.9, total=   0.0s\n",
      "[CV] alpha=50, l1_ratio=0.9 ..........................................\n",
      "[CV] ........................... alpha=50, l1_ratio=0.9, total=   0.0s\n",
      "[CV] alpha=50, l1_ratio=0.9 ..........................................\n",
      "[CV] ........................... alpha=50, l1_ratio=0.9, total=   0.0s\n",
      "[CV] alpha=50, l1_ratio=1 ............................................\n",
      "[CV] ............................. alpha=50, l1_ratio=1, total=   0.3s\n",
      "[CV] alpha=50, l1_ratio=1 ............................................\n",
      "[CV] ............................. alpha=50, l1_ratio=1, total=   0.3s\n",
      "[CV] alpha=50, l1_ratio=1 ............................................\n",
      "[CV] ............................. alpha=50, l1_ratio=1, total=   0.3s\n",
      "[CV] alpha=50, l1_ratio=1 ............................................\n",
      "[CV] ............................. alpha=50, l1_ratio=1, total=   0.3s\n",
      "[CV] alpha=50, l1_ratio=1 ............................................\n",
      "[CV] ............................. alpha=50, l1_ratio=1, total=   0.2s\n",
      "[CV] alpha=100, l1_ratio=0.01 ........................................\n",
      "[CV] ......................... alpha=100, l1_ratio=0.01, total=   0.0s\n",
      "[CV] alpha=100, l1_ratio=0.01 ........................................\n",
      "[CV] ......................... alpha=100, l1_ratio=0.01, total=   0.0s\n",
      "[CV] alpha=100, l1_ratio=0.01 ........................................\n",
      "[CV] ......................... alpha=100, l1_ratio=0.01, total=   0.0s\n",
      "[CV] alpha=100, l1_ratio=0.01 ........................................\n",
      "[CV] ......................... alpha=100, l1_ratio=0.01, total=   0.0s\n",
      "[CV] alpha=100, l1_ratio=0.01 ........................................\n",
      "[CV] ......................... alpha=100, l1_ratio=0.01, total=   0.0s\n",
      "[CV] alpha=100, l1_ratio=0.1 .........................................\n",
      "[CV] .......................... alpha=100, l1_ratio=0.1, total=   0.0s\n",
      "[CV] alpha=100, l1_ratio=0.1 .........................................\n",
      "[CV] .......................... alpha=100, l1_ratio=0.1, total=   0.0s\n",
      "[CV] alpha=100, l1_ratio=0.1 .........................................\n",
      "[CV] .......................... alpha=100, l1_ratio=0.1, total=   0.0s\n",
      "[CV] alpha=100, l1_ratio=0.1 .........................................\n",
      "[CV] .......................... alpha=100, l1_ratio=0.1, total=   0.0s\n",
      "[CV] alpha=100, l1_ratio=0.1 .........................................\n",
      "[CV] .......................... alpha=100, l1_ratio=0.1, total=   0.0s\n",
      "[CV] alpha=100, l1_ratio=0.5 .........................................\n",
      "[CV] .......................... alpha=100, l1_ratio=0.5, total=   0.0s\n",
      "[CV] alpha=100, l1_ratio=0.5 .........................................\n",
      "[CV] .......................... alpha=100, l1_ratio=0.5, total=   0.0s\n",
      "[CV] alpha=100, l1_ratio=0.5 .........................................\n",
      "[CV] .......................... alpha=100, l1_ratio=0.5, total=   0.0s\n",
      "[CV] alpha=100, l1_ratio=0.5 .........................................\n",
      "[CV] .......................... alpha=100, l1_ratio=0.5, total=   0.0s\n",
      "[CV] alpha=100, l1_ratio=0.5 .........................................\n",
      "[CV] .......................... alpha=100, l1_ratio=0.5, total=   0.0s\n",
      "[CV] alpha=100, l1_ratio=0.9 .........................................\n",
      "[CV] .......................... alpha=100, l1_ratio=0.9, total=   0.0s\n",
      "[CV] alpha=100, l1_ratio=0.9 .........................................\n",
      "[CV] .......................... alpha=100, l1_ratio=0.9, total=   0.0s\n",
      "[CV] alpha=100, l1_ratio=0.9 .........................................\n",
      "[CV] .......................... alpha=100, l1_ratio=0.9, total=   0.0s\n",
      "[CV] alpha=100, l1_ratio=0.9 .........................................\n",
      "[CV] .......................... alpha=100, l1_ratio=0.9, total=   0.0s\n",
      "[CV] alpha=100, l1_ratio=0.9 .........................................\n",
      "[CV] .......................... alpha=100, l1_ratio=0.9, total=   0.0s\n",
      "[CV] alpha=100, l1_ratio=1 ...........................................\n",
      "[CV] ............................ alpha=100, l1_ratio=1, total=   0.1s\n",
      "[CV] alpha=100, l1_ratio=1 ...........................................\n",
      "[CV] ............................ alpha=100, l1_ratio=1, total=   0.1s\n",
      "[CV] alpha=100, l1_ratio=1 ...........................................\n",
      "[CV] ............................ alpha=100, l1_ratio=1, total=   0.1s\n",
      "[CV] alpha=100, l1_ratio=1 ...........................................\n",
      "[CV] ............................ alpha=100, l1_ratio=1, total=   0.1s\n",
      "[CV] alpha=100, l1_ratio=1 ...........................................\n",
      "[CV] ............................ alpha=100, l1_ratio=1, total=   0.1s\n"
     ]
    },
    {
     "name": "stderr",
     "output_type": "stream",
     "text": [
      "[Parallel(n_jobs=1)]: Done 125 out of 125 | elapsed:   16.9s finished\n"
     ]
    },
    {
     "data": {
      "text/plain": [
       "GridSearchCV(cv=5, estimator=ElasticNet(),\n",
       "             param_grid={'alpha': [0.01, 0.1, 1, 50, 100],\n",
       "                         'l1_ratio': [0.01, 0.1, 0.5, 0.9, 1]},\n",
       "             scoring='neg_mean_squared_error', verbose=2)"
      ]
     },
     "execution_count": 18,
     "metadata": {},
     "output_type": "execute_result"
    }
   ],
   "source": [
    "grid_model.fit(X_train,y_train)"
   ]
  },
  {
   "cell_type": "markdown",
   "id": "4e43bd87",
   "metadata": {},
   "source": [
    "### Best results:"
   ]
  },
  {
   "cell_type": "code",
   "execution_count": 19,
   "id": "b61063e8",
   "metadata": {},
   "outputs": [
    {
     "data": {
      "text/plain": [
       "ElasticNet(alpha=100, l1_ratio=1)"
      ]
     },
     "execution_count": 19,
     "metadata": {},
     "output_type": "execute_result"
    }
   ],
   "source": [
    "grid_model.best_estimator_"
   ]
  },
  {
   "cell_type": "markdown",
   "id": "296ff10f",
   "metadata": {},
   "source": [
    "## Model evaluation on the test data (10% unseen data)"
   ]
  },
  {
   "cell_type": "code",
   "execution_count": 20,
   "id": "ef134ea2",
   "metadata": {},
   "outputs": [],
   "source": [
    "y_prediction = grid_model.predict(X_test)"
   ]
  },
  {
   "cell_type": "code",
   "execution_count": 21,
   "id": "22c0f1df",
   "metadata": {},
   "outputs": [],
   "source": [
    "from sklearn.metrics import mean_squared_error, mean_absolute_error"
   ]
  },
  {
   "cell_type": "code",
   "execution_count": 22,
   "id": "aa30a917",
   "metadata": {},
   "outputs": [],
   "source": [
    "MAE = round(mean_absolute_error(y_test, y_prediction),1)"
   ]
  },
  {
   "cell_type": "code",
   "execution_count": 23,
   "id": "aede6e16",
   "metadata": {},
   "outputs": [],
   "source": [
    "RMSE = round(np.sqrt(mean_squared_error(y_test,y_prediction)),1)"
   ]
  },
  {
   "cell_type": "code",
   "execution_count": 24,
   "id": "90a87eed",
   "metadata": {},
   "outputs": [
    {
     "data": {
      "text/plain": [
       "13856.8"
      ]
     },
     "execution_count": 24,
     "metadata": {},
     "output_type": "execute_result"
    }
   ],
   "source": [
    "MAE #[$]"
   ]
  },
  {
   "cell_type": "code",
   "execution_count": 25,
   "id": "71829cab",
   "metadata": {},
   "outputs": [
    {
     "data": {
      "text/plain": [
       "19625.5"
      ]
     },
     "execution_count": 25,
     "metadata": {},
     "output_type": "execute_result"
    }
   ],
   "source": [
    "RMSE #[$]"
   ]
  },
  {
   "cell_type": "markdown",
   "id": "dc3797bd",
   "metadata": {},
   "source": [
    "## Performance achieved on the test data set:\n",
    "### MAE =    $\\$$ 13856.8\n",
    "### RMSE =    $\\$$ 19625.5"
   ]
  },
  {
   "cell_type": "code",
   "execution_count": null,
   "id": "a331dd74",
   "metadata": {},
   "outputs": [],
   "source": []
  }
 ],
 "metadata": {
  "kernelspec": {
   "display_name": "Python 3.7.10 64-bit ('Udemy': conda)",
   "language": "python",
   "name": "python3710jvsc74a57bd08013d6f1e3eb48fa53d5fa09239cb177c9bd6c62610026d411517d498b5b536e"
  },
  "language_info": {
   "codemirror_mode": {
    "name": "ipython",
    "version": 3
   },
   "file_extension": ".py",
   "mimetype": "text/x-python",
   "name": "python",
   "nbconvert_exporter": "python",
   "pygments_lexer": "ipython3",
   "version": "3.7.10"
  }
 },
 "nbformat": 4,
 "nbformat_minor": 5
}
